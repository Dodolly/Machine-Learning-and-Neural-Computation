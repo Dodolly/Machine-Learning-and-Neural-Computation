{
 "cells": [
  {
   "cell_type": "markdown",
   "metadata": {},
   "source": [
    "# A Brief Introduction to Data Handling in Python\n",
    "\n",
    "This is a very brief introduction to data handling, and possibly revision for many of you.  \n",
    "Please note that some of the code demonstrated below is going to be used in later exercises during the module.\n",
    "\n",
    "## Importing Libraries\n",
    "\n",
    "First, we import libraries: NumPy (`numpy`), Pandas (`pandas`), and Scikit-learn (`sklearn`) are the main libraries we will be working with.\n",
    "- NumPy is a library adding support for large, multi-dimensional arrays and matrices, along with a large collection of high-level mathematical functions to operate on these arrays.\n",
    "- Pandas is a library for data manipulation and analysis. In particular, it offers data structures and operations for manipulating numerical tables and time series.\n",
    "- Scikit-learn is a machine learning library."
   ]
  },
  {
   "cell_type": "code",
   "execution_count": 1,
   "metadata": {},
   "outputs": [],
   "source": [
    "import numpy as np\n",
    "import pandas as pd"
   ]
  },
  {
   "cell_type": "markdown",
   "metadata": {},
   "source": [
    "From Scikit-learn, we import only selected items."
   ]
  },
  {
   "cell_type": "code",
   "execution_count": 2,
   "metadata": {},
   "outputs": [],
   "source": [
    "from sklearn.preprocessing import StandardScaler\n",
    "from sklearn.model_selection import train_test_split\n",
    "from sklearn.metrics import mean_absolute_error, mean_squared_error\n",
    "from sklearn.datasets import load_iris"
   ]
  },
  {
   "cell_type": "markdown",
   "metadata": {},
   "source": [
    "We installed NumPy, Pandas and Scikit-learn on the top of standard Python installation.  \n",
    "Python itself also has a standard library which does not require additional installation. \n",
    "You may find some of the modules useful in the future, but we will not be importing them in this notebook:\n",
    "https://docs.python.org/3/library/index.html"
   ]
  },
  {
   "cell_type": "markdown",
   "metadata": {},
   "source": [
    "## Exploring the Data Set"
   ]
  },
  {
   "cell_type": "markdown",
   "metadata": {},
   "source": [
    "The 'Iris data set' is included in Scikit-learn, and is a well-known data set commonly used when teaching machine learning.  \n",
    "We load it below.   \n",
    "Round brackets are used mainly for function arguments.  \n",
    "Square brackets are used mainly in the context of indexing and slicing (here, accessing elements of a collection). "
   ]
  },
  {
   "cell_type": "code",
   "execution_count": 3,
   "metadata": {},
   "outputs": [],
   "source": [
    "iris = load_iris()\n",
    "X = iris['data']\n",
    "y = iris['target']"
   ]
  },
  {
   "cell_type": "markdown",
   "metadata": {},
   "source": [
    "We can print details of the Iris data set:  \n",
    "We  can print using the standard Python `print()` function, but in a Jupyter Notebook, the value of the last item in the code cell is automatically printed.  \n",
    "Automatic printing can be supressed with `;`.  "
   ]
  },
  {
   "cell_type": "code",
   "execution_count": 4,
   "metadata": {},
   "outputs": [
    {
     "data": {
      "text/plain": [
       "{'data': array([[5.1, 3.5, 1.4, 0.2],\n",
       "        [4.9, 3. , 1.4, 0.2],\n",
       "        [4.7, 3.2, 1.3, 0.2],\n",
       "        [4.6, 3.1, 1.5, 0.2],\n",
       "        [5. , 3.6, 1.4, 0.2],\n",
       "        [5.4, 3.9, 1.7, 0.4],\n",
       "        [4.6, 3.4, 1.4, 0.3],\n",
       "        [5. , 3.4, 1.5, 0.2],\n",
       "        [4.4, 2.9, 1.4, 0.2],\n",
       "        [4.9, 3.1, 1.5, 0.1],\n",
       "        [5.4, 3.7, 1.5, 0.2],\n",
       "        [4.8, 3.4, 1.6, 0.2],\n",
       "        [4.8, 3. , 1.4, 0.1],\n",
       "        [4.3, 3. , 1.1, 0.1],\n",
       "        [5.8, 4. , 1.2, 0.2],\n",
       "        [5.7, 4.4, 1.5, 0.4],\n",
       "        [5.4, 3.9, 1.3, 0.4],\n",
       "        [5.1, 3.5, 1.4, 0.3],\n",
       "        [5.7, 3.8, 1.7, 0.3],\n",
       "        [5.1, 3.8, 1.5, 0.3],\n",
       "        [5.4, 3.4, 1.7, 0.2],\n",
       "        [5.1, 3.7, 1.5, 0.4],\n",
       "        [4.6, 3.6, 1. , 0.2],\n",
       "        [5.1, 3.3, 1.7, 0.5],\n",
       "        [4.8, 3.4, 1.9, 0.2],\n",
       "        [5. , 3. , 1.6, 0.2],\n",
       "        [5. , 3.4, 1.6, 0.4],\n",
       "        [5.2, 3.5, 1.5, 0.2],\n",
       "        [5.2, 3.4, 1.4, 0.2],\n",
       "        [4.7, 3.2, 1.6, 0.2],\n",
       "        [4.8, 3.1, 1.6, 0.2],\n",
       "        [5.4, 3.4, 1.5, 0.4],\n",
       "        [5.2, 4.1, 1.5, 0.1],\n",
       "        [5.5, 4.2, 1.4, 0.2],\n",
       "        [4.9, 3.1, 1.5, 0.2],\n",
       "        [5. , 3.2, 1.2, 0.2],\n",
       "        [5.5, 3.5, 1.3, 0.2],\n",
       "        [4.9, 3.6, 1.4, 0.1],\n",
       "        [4.4, 3. , 1.3, 0.2],\n",
       "        [5.1, 3.4, 1.5, 0.2],\n",
       "        [5. , 3.5, 1.3, 0.3],\n",
       "        [4.5, 2.3, 1.3, 0.3],\n",
       "        [4.4, 3.2, 1.3, 0.2],\n",
       "        [5. , 3.5, 1.6, 0.6],\n",
       "        [5.1, 3.8, 1.9, 0.4],\n",
       "        [4.8, 3. , 1.4, 0.3],\n",
       "        [5.1, 3.8, 1.6, 0.2],\n",
       "        [4.6, 3.2, 1.4, 0.2],\n",
       "        [5.3, 3.7, 1.5, 0.2],\n",
       "        [5. , 3.3, 1.4, 0.2],\n",
       "        [7. , 3.2, 4.7, 1.4],\n",
       "        [6.4, 3.2, 4.5, 1.5],\n",
       "        [6.9, 3.1, 4.9, 1.5],\n",
       "        [5.5, 2.3, 4. , 1.3],\n",
       "        [6.5, 2.8, 4.6, 1.5],\n",
       "        [5.7, 2.8, 4.5, 1.3],\n",
       "        [6.3, 3.3, 4.7, 1.6],\n",
       "        [4.9, 2.4, 3.3, 1. ],\n",
       "        [6.6, 2.9, 4.6, 1.3],\n",
       "        [5.2, 2.7, 3.9, 1.4],\n",
       "        [5. , 2. , 3.5, 1. ],\n",
       "        [5.9, 3. , 4.2, 1.5],\n",
       "        [6. , 2.2, 4. , 1. ],\n",
       "        [6.1, 2.9, 4.7, 1.4],\n",
       "        [5.6, 2.9, 3.6, 1.3],\n",
       "        [6.7, 3.1, 4.4, 1.4],\n",
       "        [5.6, 3. , 4.5, 1.5],\n",
       "        [5.8, 2.7, 4.1, 1. ],\n",
       "        [6.2, 2.2, 4.5, 1.5],\n",
       "        [5.6, 2.5, 3.9, 1.1],\n",
       "        [5.9, 3.2, 4.8, 1.8],\n",
       "        [6.1, 2.8, 4. , 1.3],\n",
       "        [6.3, 2.5, 4.9, 1.5],\n",
       "        [6.1, 2.8, 4.7, 1.2],\n",
       "        [6.4, 2.9, 4.3, 1.3],\n",
       "        [6.6, 3. , 4.4, 1.4],\n",
       "        [6.8, 2.8, 4.8, 1.4],\n",
       "        [6.7, 3. , 5. , 1.7],\n",
       "        [6. , 2.9, 4.5, 1.5],\n",
       "        [5.7, 2.6, 3.5, 1. ],\n",
       "        [5.5, 2.4, 3.8, 1.1],\n",
       "        [5.5, 2.4, 3.7, 1. ],\n",
       "        [5.8, 2.7, 3.9, 1.2],\n",
       "        [6. , 2.7, 5.1, 1.6],\n",
       "        [5.4, 3. , 4.5, 1.5],\n",
       "        [6. , 3.4, 4.5, 1.6],\n",
       "        [6.7, 3.1, 4.7, 1.5],\n",
       "        [6.3, 2.3, 4.4, 1.3],\n",
       "        [5.6, 3. , 4.1, 1.3],\n",
       "        [5.5, 2.5, 4. , 1.3],\n",
       "        [5.5, 2.6, 4.4, 1.2],\n",
       "        [6.1, 3. , 4.6, 1.4],\n",
       "        [5.8, 2.6, 4. , 1.2],\n",
       "        [5. , 2.3, 3.3, 1. ],\n",
       "        [5.6, 2.7, 4.2, 1.3],\n",
       "        [5.7, 3. , 4.2, 1.2],\n",
       "        [5.7, 2.9, 4.2, 1.3],\n",
       "        [6.2, 2.9, 4.3, 1.3],\n",
       "        [5.1, 2.5, 3. , 1.1],\n",
       "        [5.7, 2.8, 4.1, 1.3],\n",
       "        [6.3, 3.3, 6. , 2.5],\n",
       "        [5.8, 2.7, 5.1, 1.9],\n",
       "        [7.1, 3. , 5.9, 2.1],\n",
       "        [6.3, 2.9, 5.6, 1.8],\n",
       "        [6.5, 3. , 5.8, 2.2],\n",
       "        [7.6, 3. , 6.6, 2.1],\n",
       "        [4.9, 2.5, 4.5, 1.7],\n",
       "        [7.3, 2.9, 6.3, 1.8],\n",
       "        [6.7, 2.5, 5.8, 1.8],\n",
       "        [7.2, 3.6, 6.1, 2.5],\n",
       "        [6.5, 3.2, 5.1, 2. ],\n",
       "        [6.4, 2.7, 5.3, 1.9],\n",
       "        [6.8, 3. , 5.5, 2.1],\n",
       "        [5.7, 2.5, 5. , 2. ],\n",
       "        [5.8, 2.8, 5.1, 2.4],\n",
       "        [6.4, 3.2, 5.3, 2.3],\n",
       "        [6.5, 3. , 5.5, 1.8],\n",
       "        [7.7, 3.8, 6.7, 2.2],\n",
       "        [7.7, 2.6, 6.9, 2.3],\n",
       "        [6. , 2.2, 5. , 1.5],\n",
       "        [6.9, 3.2, 5.7, 2.3],\n",
       "        [5.6, 2.8, 4.9, 2. ],\n",
       "        [7.7, 2.8, 6.7, 2. ],\n",
       "        [6.3, 2.7, 4.9, 1.8],\n",
       "        [6.7, 3.3, 5.7, 2.1],\n",
       "        [7.2, 3.2, 6. , 1.8],\n",
       "        [6.2, 2.8, 4.8, 1.8],\n",
       "        [6.1, 3. , 4.9, 1.8],\n",
       "        [6.4, 2.8, 5.6, 2.1],\n",
       "        [7.2, 3. , 5.8, 1.6],\n",
       "        [7.4, 2.8, 6.1, 1.9],\n",
       "        [7.9, 3.8, 6.4, 2. ],\n",
       "        [6.4, 2.8, 5.6, 2.2],\n",
       "        [6.3, 2.8, 5.1, 1.5],\n",
       "        [6.1, 2.6, 5.6, 1.4],\n",
       "        [7.7, 3. , 6.1, 2.3],\n",
       "        [6.3, 3.4, 5.6, 2.4],\n",
       "        [6.4, 3.1, 5.5, 1.8],\n",
       "        [6. , 3. , 4.8, 1.8],\n",
       "        [6.9, 3.1, 5.4, 2.1],\n",
       "        [6.7, 3.1, 5.6, 2.4],\n",
       "        [6.9, 3.1, 5.1, 2.3],\n",
       "        [5.8, 2.7, 5.1, 1.9],\n",
       "        [6.8, 3.2, 5.9, 2.3],\n",
       "        [6.7, 3.3, 5.7, 2.5],\n",
       "        [6.7, 3. , 5.2, 2.3],\n",
       "        [6.3, 2.5, 5. , 1.9],\n",
       "        [6.5, 3. , 5.2, 2. ],\n",
       "        [6.2, 3.4, 5.4, 2.3],\n",
       "        [5.9, 3. , 5.1, 1.8]]),\n",
       " 'target': array([0, 0, 0, 0, 0, 0, 0, 0, 0, 0, 0, 0, 0, 0, 0, 0, 0, 0, 0, 0, 0, 0,\n",
       "        0, 0, 0, 0, 0, 0, 0, 0, 0, 0, 0, 0, 0, 0, 0, 0, 0, 0, 0, 0, 0, 0,\n",
       "        0, 0, 0, 0, 0, 0, 1, 1, 1, 1, 1, 1, 1, 1, 1, 1, 1, 1, 1, 1, 1, 1,\n",
       "        1, 1, 1, 1, 1, 1, 1, 1, 1, 1, 1, 1, 1, 1, 1, 1, 1, 1, 1, 1, 1, 1,\n",
       "        1, 1, 1, 1, 1, 1, 1, 1, 1, 1, 1, 1, 2, 2, 2, 2, 2, 2, 2, 2, 2, 2,\n",
       "        2, 2, 2, 2, 2, 2, 2, 2, 2, 2, 2, 2, 2, 2, 2, 2, 2, 2, 2, 2, 2, 2,\n",
       "        2, 2, 2, 2, 2, 2, 2, 2, 2, 2, 2, 2, 2, 2, 2, 2, 2, 2]),\n",
       " 'frame': None,\n",
       " 'target_names': array(['setosa', 'versicolor', 'virginica'], dtype='<U10'),\n",
       " 'DESCR': '.. _iris_dataset:\\n\\nIris plants dataset\\n--------------------\\n\\n**Data Set Characteristics:**\\n\\n    :Number of Instances: 150 (50 in each of three classes)\\n    :Number of Attributes: 4 numeric, predictive attributes and the class\\n    :Attribute Information:\\n        - sepal length in cm\\n        - sepal width in cm\\n        - petal length in cm\\n        - petal width in cm\\n        - class:\\n                - Iris-Setosa\\n                - Iris-Versicolour\\n                - Iris-Virginica\\n                \\n    :Summary Statistics:\\n\\n    ============== ==== ==== ======= ===== ====================\\n                    Min  Max   Mean    SD   Class Correlation\\n    ============== ==== ==== ======= ===== ====================\\n    sepal length:   4.3  7.9   5.84   0.83    0.7826\\n    sepal width:    2.0  4.4   3.05   0.43   -0.4194\\n    petal length:   1.0  6.9   3.76   1.76    0.9490  (high!)\\n    petal width:    0.1  2.5   1.20   0.76    0.9565  (high!)\\n    ============== ==== ==== ======= ===== ====================\\n\\n    :Missing Attribute Values: None\\n    :Class Distribution: 33.3% for each of 3 classes.\\n    :Creator: R.A. Fisher\\n    :Donor: Michael Marshall (MARSHALL%PLU@io.arc.nasa.gov)\\n    :Date: July, 1988\\n\\nThe famous Iris database, first used by Sir R.A. Fisher. The dataset is taken\\nfrom Fisher\\'s paper. Note that it\\'s the same as in R, but not as in the UCI\\nMachine Learning Repository, which has two wrong data points.\\n\\nThis is perhaps the best known database to be found in the\\npattern recognition literature.  Fisher\\'s paper is a classic in the field and\\nis referenced frequently to this day.  (See Duda & Hart, for example.)  The\\ndata set contains 3 classes of 50 instances each, where each class refers to a\\ntype of iris plant.  One class is linearly separable from the other 2; the\\nlatter are NOT linearly separable from each other.\\n\\n.. topic:: References\\n\\n   - Fisher, R.A. \"The use of multiple measurements in taxonomic problems\"\\n     Annual Eugenics, 7, Part II, 179-188 (1936); also in \"Contributions to\\n     Mathematical Statistics\" (John Wiley, NY, 1950).\\n   - Duda, R.O., & Hart, P.E. (1973) Pattern Classification and Scene Analysis.\\n     (Q327.D83) John Wiley & Sons.  ISBN 0-471-22361-1.  See page 218.\\n   - Dasarathy, B.V. (1980) \"Nosing Around the Neighborhood: A New System\\n     Structure and Classification Rule for Recognition in Partially Exposed\\n     Environments\".  IEEE Transactions on Pattern Analysis and Machine\\n     Intelligence, Vol. PAMI-2, No. 1, 67-71.\\n   - Gates, G.W. (1972) \"The Reduced Nearest Neighbor Rule\".  IEEE Transactions\\n     on Information Theory, May 1972, 431-433.\\n   - See also: 1988 MLC Proceedings, 54-64.  Cheeseman et al\"s AUTOCLASS II\\n     conceptual clustering system finds 3 classes in the data.\\n   - Many, many more ...',\n",
       " 'feature_names': ['sepal length (cm)',\n",
       "  'sepal width (cm)',\n",
       "  'petal length (cm)',\n",
       "  'petal width (cm)'],\n",
       " 'filename': 'C:\\\\Users\\\\Dolly He\\\\anaconda3\\\\lib\\\\site-packages\\\\sklearn\\\\datasets\\\\data\\\\iris.csv'}"
      ]
     },
     "execution_count": 4,
     "metadata": {},
     "output_type": "execute_result"
    }
   ],
   "source": [
    "iris"
   ]
  },
  {
   "cell_type": "markdown",
   "metadata": {},
   "source": [
    "We can also explore the data set in more detail:\n",
    "\n",
    "- We can print feature names:"
   ]
  },
  {
   "cell_type": "code",
   "execution_count": 5,
   "metadata": {},
   "outputs": [
    {
     "data": {
      "text/plain": [
       "['sepal length (cm)',\n",
       " 'sepal width (cm)',\n",
       " 'petal length (cm)',\n",
       " 'petal width (cm)']"
      ]
     },
     "execution_count": 5,
     "metadata": {},
     "output_type": "execute_result"
    }
   ],
   "source": [
    "iris['feature_names']"
   ]
  },
  {
   "cell_type": "markdown",
   "metadata": {},
   "source": [
    "- We can print data dimensions:"
   ]
  },
  {
   "cell_type": "code",
   "execution_count": 6,
   "metadata": {},
   "outputs": [
    {
     "data": {
      "text/plain": [
       "(150, 4)"
      ]
     },
     "execution_count": 6,
     "metadata": {},
     "output_type": "execute_result"
    }
   ],
   "source": [
    "X.shape "
   ]
  },
  {
   "cell_type": "markdown",
   "metadata": {},
   "source": [
    "Let's assign the `shape` of the data set to variables, (we can use them later to iterate over the dataset):\n",
    "\n",
    "`X.shape` returns a two-element array, where `X.shape[0]` is the number of rows (samples), and `X.shape[1]` is the number of columns (features).  \n",
    "(Please note that indexing starts at 0; row and column indexing also starts at 0).  \n",
    "  \n",
    "The code below is equivalent to:  \n",
    "`n_sample = X.shape[0]`  \n",
    "`n_feature = X.shape [1]`"
   ]
  },
  {
   "cell_type": "code",
   "execution_count": 7,
   "metadata": {},
   "outputs": [],
   "source": [
    "n_sample, n_feature = X.shape "
   ]
  },
  {
   "cell_type": "markdown",
   "metadata": {},
   "source": [
    "You can select columns and rows in the dataset. \n",
    "\n",
    "Rows are selected before the comma, columns after the comma. Note that this corresponds with the order of elements decribing shape. This row, column order is consistent in Python. \n",
    "\n",
    "You will encounter objects with more than 2 dimensions, these will be described using one number per axis, e.g. `X[:, :, :, :]` for four dimensions.    \n",
    "  \n",
    "Let's select the first row: "
   ]
  },
  {
   "cell_type": "code",
   "execution_count": 8,
   "metadata": {},
   "outputs": [
    {
     "data": {
      "text/plain": [
       "array([5.1, 3.5, 1.4, 0.2])"
      ]
     },
     "execution_count": 8,
     "metadata": {},
     "output_type": "execute_result"
    }
   ],
   "source": [
    "X[0, :] "
   ]
  },
  {
   "cell_type": "markdown",
   "metadata": {},
   "source": [
    "When selecting adjacent rows / columns, use `:` to separate the start and end of the slice. \n",
    "\n",
    "When selecting multiple non-adjacent rows / columns, use `,` between them, and wrap the whole selction in square brackets.    \n",
    "  \n",
    "Let's select first three rows:"
   ]
  },
  {
   "cell_type": "code",
   "execution_count": 9,
   "metadata": {},
   "outputs": [
    {
     "data": {
      "text/plain": [
       "array([[5.1, 3.5, 1.4, 0.2],\n",
       "       [4.9, 3. , 1.4, 0.2],\n",
       "       [4.7, 3.2, 1.3, 0.2]])"
      ]
     },
     "execution_count": 9,
     "metadata": {},
     "output_type": "execute_result"
    }
   ],
   "source": [
    "X[0:3, :]"
   ]
  },
  {
   "cell_type": "markdown",
   "metadata": {},
   "source": [
    "Let's select the first column, then save it to a variable for later use:"
   ]
  },
  {
   "cell_type": "code",
   "execution_count": 10,
   "metadata": {},
   "outputs": [
    {
     "name": "stdout",
     "output_type": "stream",
     "text": [
      "[5.1 4.9 4.7 4.6 5.  5.4 4.6 5.  4.4 4.9 5.4 4.8 4.8 4.3 5.8 5.7 5.4 5.1\n",
      " 5.7 5.1 5.4 5.1 4.6 5.1 4.8 5.  5.  5.2 5.2 4.7 4.8 5.4 5.2 5.5 4.9 5.\n",
      " 5.5 4.9 4.4 5.1 5.  4.5 4.4 5.  5.1 4.8 5.1 4.6 5.3 5.  7.  6.4 6.9 5.5\n",
      " 6.5 5.7 6.3 4.9 6.6 5.2 5.  5.9 6.  6.1 5.6 6.7 5.6 5.8 6.2 5.6 5.9 6.1\n",
      " 6.3 6.1 6.4 6.6 6.8 6.7 6.  5.7 5.5 5.5 5.8 6.  5.4 6.  6.7 6.3 5.6 5.5\n",
      " 5.5 6.1 5.8 5.  5.6 5.7 5.7 6.2 5.1 5.7 6.3 5.8 7.1 6.3 6.5 7.6 4.9 7.3\n",
      " 6.7 7.2 6.5 6.4 6.8 5.7 5.8 6.4 6.5 7.7 7.7 6.  6.9 5.6 7.7 6.3 6.7 7.2\n",
      " 6.2 6.1 6.4 7.2 7.4 7.9 6.4 6.3 6.1 7.7 6.3 6.4 6.  6.9 6.7 6.9 5.8 6.8\n",
      " 6.7 6.7 6.3 6.5 6.2 5.9]\n"
     ]
    }
   ],
   "source": [
    "first_col = X[:, 0] \n",
    "print(first_col)"
   ]
  },
  {
   "cell_type": "markdown",
   "metadata": {},
   "source": [
    "## Writing Functions "
   ]
  },
  {
   "cell_type": "markdown",
   "metadata": {},
   "source": [
    "We can calculate average 'sepal length' (feature 0) by hand:  \n",
    "  \n",
    "The notation `x += y` is a shorthand for `x = x + y`. "
   ]
  },
  {
   "cell_type": "code",
   "execution_count": 11,
   "metadata": {},
   "outputs": [
    {
     "name": "stdout",
     "output_type": "stream",
     "text": [
      "5.843333333333335\n"
     ]
    }
   ],
   "source": [
    "total = 0\n",
    "for item in range(n_sample):\n",
    "    total += X[item, 0] \n",
    "    \n",
    "avg = total / n_sample\n",
    "print(avg)"
   ]
  },
  {
   "cell_type": "markdown",
   "metadata": {},
   "source": [
    "Above, we used a `for` loop, these are used to iterate over a sequence. If you are not familiar with them, you can find information here: https://www.w3schools.com/python/python_for_loops.asp\n",
    "\n",
    "Other common ways of controlling flow of your code are `if`, `elif` and `else` statements. More information can be found here: https://www.w3schools.com/python/python_conditions.asp  \n",
    "\n",
    "If we think we will be using the above code again, we can put it into a function which calculates the average of a vector. Then we pass all the required arguments to the function and return the result.  \n",
    "\n",
    "Since we need to pass the vector as an argument anyway, we can calculate its length inside the function.  \n",
    "(Note that we switched from operating in two dimensions when working with the whole multidimensional array above, to operating in one dimension below)."
   ]
  },
  {
   "cell_type": "code",
   "execution_count": 12,
   "metadata": {},
   "outputs": [],
   "source": [
    "def avg_vector(vector): #function definition\n",
    "    total = 0\n",
    "    n_sample = len(vector)\n",
    "    for item in range(n_sample):\n",
    "        total += vector[item]\n",
    "    \n",
    "    avg = total / n_sample\n",
    "    return avg"
   ]
  },
  {
   "cell_type": "code",
   "execution_count": 13,
   "metadata": {},
   "outputs": [
    {
     "name": "stdout",
     "output_type": "stream",
     "text": [
      "5.843333333333335\n"
     ]
    }
   ],
   "source": [
    "avg_sepal_len = avg_vector(first_col) #function call\n",
    "print(avg_sepal_len)"
   ]
  },
  {
   "cell_type": "markdown",
   "metadata": {},
   "source": [
    "We can now call the function to calculate the average of another column: 'sepal width':"
   ]
  },
  {
   "cell_type": "code",
   "execution_count": 14,
   "metadata": {},
   "outputs": [
    {
     "name": "stdout",
     "output_type": "stream",
     "text": [
      "3.057333333333334\n"
     ]
    }
   ],
   "source": [
    "avg_sepal_width = avg_vector(X[:, 1])\n",
    "print(avg_sepal_width)"
   ]
  },
  {
   "cell_type": "markdown",
   "metadata": {},
   "source": [
    "## Using NumPy"
   ]
  },
  {
   "cell_type": "markdown",
   "metadata": {},
   "source": [
    "We will need custom functions in the future, however we should leverage existing Python functions and use the imported libraries to avoid having to write code for common operations - like averaging - from scratch.\n",
    "\n",
    "Simple functions exist in Python by default, and frequently also exist as a part of more advanced libraries like NumPy. You will encounter both versions, but try to make consistent choices in your own code.     \n",
    "  \n",
    "The Python `mean()` function:"
   ]
  },
  {
   "cell_type": "code",
   "execution_count": 15,
   "metadata": {},
   "outputs": [
    {
     "name": "stdout",
     "output_type": "stream",
     "text": [
      "5.843333333333334\n"
     ]
    }
   ],
   "source": [
    "py_avg = first_col.mean()\n",
    "print(py_avg)"
   ]
  },
  {
   "cell_type": "markdown",
   "metadata": {},
   "source": [
    "In the code below, `axis = 0` specifies column-wise operation, whereas `axis = 1` would specify row-wise operation. When using new functions, check documentation to see what arguments they can take."
   ]
  },
  {
   "cell_type": "code",
   "execution_count": 16,
   "metadata": {},
   "outputs": [
    {
     "name": "stdout",
     "output_type": "stream",
     "text": [
      "[5.84333333 3.05733333 3.758      1.19933333]\n"
     ]
    }
   ],
   "source": [
    "py_avg_by_col = X.mean(axis = 0)\n",
    "print(py_avg_by_col)"
   ]
  },
  {
   "cell_type": "markdown",
   "metadata": {},
   "source": [
    "An equivalent function exists in NumPy:  \n",
    "(You can check documentation of NumPy average function here:  \n",
    "https://docs.scipy.org/doc/numpy/reference/generated/numpy.average.html)"
   ]
  },
  {
   "cell_type": "code",
   "execution_count": 17,
   "metadata": {},
   "outputs": [
    {
     "name": "stdout",
     "output_type": "stream",
     "text": [
      "5.843333333333334\n"
     ]
    }
   ],
   "source": [
    "np_avg = np.average(first_col)\n",
    "print(np_avg)"
   ]
  },
  {
   "cell_type": "code",
   "execution_count": 18,
   "metadata": {},
   "outputs": [
    {
     "name": "stdout",
     "output_type": "stream",
     "text": [
      "[5.84333333 3.05733333 3.758      1.19933333]\n"
     ]
    }
   ],
   "source": [
    "np_avg_by_col = np.average(X, axis = 0)\n",
    "print(np_avg_by_col)"
   ]
  },
  {
   "cell_type": "markdown",
   "metadata": {},
   "source": [
    "Characteristic NumPy features include multidimensional array objects called `ndarray`'s and functions which work with them. Examples are available here: https://docs.scipy.org/doc/numpy/user/quickstart.html  \n",
    "\n",
    "In fact the Iris data set we encountered earlier contains NumPy array objects.  \n",
    "\n",
    "We can check it using `type()` function:"
   ]
  },
  {
   "cell_type": "code",
   "execution_count": 19,
   "metadata": {},
   "outputs": [
    {
     "name": "stdout",
     "output_type": "stream",
     "text": [
      "Iris dataset is of type <class 'numpy.ndarray'>, has 2 dimensions, 150 rows and 4 columns.\n",
      "\n",
      "A single column is of type <class 'numpy.ndarray'>, has 1 dimension, and 150 rows.\n",
      "\n"
     ]
    }
   ],
   "source": [
    "dataset_type = type(iris.data)\n",
    "dataset_dimensions = iris.data.ndim\n",
    "dataset_shape = iris.data.shape\n",
    "print(\"Iris dataset is of type %s, has %d dimensions, %d rows and %d columns.\\n\" % (dataset_type, dataset_dimensions, dataset_shape[0], dataset_shape[1]))\n",
    "\n",
    "col_type = type(first_col)\n",
    "col_dimensions = first_col.ndim\n",
    "col_shape = first_col.shape\n",
    "print(\"A single column is of type %s, has %d dimension, and %d rows.\\n\" % (col_type, col_dimensions, col_shape[0]))"
   ]
  },
  {
   "cell_type": "markdown",
   "metadata": {},
   "source": [
    "## Using Masks"
   ]
  },
  {
   "cell_type": "markdown",
   "metadata": {
    "collapsed": true
   },
   "source": [
    "If you would like to make changes to the data, but also want to keep the original data for reference, you can create a copy:"
   ]
  },
  {
   "cell_type": "code",
   "execution_count": 20,
   "metadata": {},
   "outputs": [],
   "source": [
    "X_copy = X.copy()"
   ]
  },
  {
   "cell_type": "markdown",
   "metadata": {},
   "source": [
    "To work with a selection of your values: \n",
    "\n",
    "1) Create a mask for your data: This has the same shape as your data, and contains Boolean values (True / False) indicating whether a given value in the data set fulfills the condition.  \n",
    "\n",
    "2) Use the mask to perform operations only on the selected values from your data set.\n",
    "\n",
    "Below, we select all elements of `X_copy` which are larger than 5.0, then replace them with `nan` using NumPy a function. "
   ]
  },
  {
   "cell_type": "code",
   "execution_count": 21,
   "metadata": {},
   "outputs": [
    {
     "name": "stdout",
     "output_type": "stream",
     "text": [
      "[[ True False False False]\n",
      " [False False False False]\n",
      " [False False False False]\n",
      " [False False False False]\n",
      " [False False False False]\n",
      " [ True False False False]\n",
      " [False False False False]\n",
      " [False False False False]\n",
      " [False False False False]\n",
      " [False False False False]\n",
      " [ True False False False]\n",
      " [False False False False]\n",
      " [False False False False]\n",
      " [False False False False]\n",
      " [ True False False False]\n",
      " [ True False False False]\n",
      " [ True False False False]\n",
      " [ True False False False]\n",
      " [ True False False False]\n",
      " [ True False False False]\n",
      " [ True False False False]\n",
      " [ True False False False]\n",
      " [False False False False]\n",
      " [ True False False False]\n",
      " [False False False False]\n",
      " [False False False False]\n",
      " [False False False False]\n",
      " [ True False False False]\n",
      " [ True False False False]\n",
      " [False False False False]\n",
      " [False False False False]\n",
      " [ True False False False]\n",
      " [ True False False False]\n",
      " [ True False False False]\n",
      " [False False False False]\n",
      " [False False False False]\n",
      " [ True False False False]\n",
      " [False False False False]\n",
      " [False False False False]\n",
      " [ True False False False]\n",
      " [False False False False]\n",
      " [False False False False]\n",
      " [False False False False]\n",
      " [False False False False]\n",
      " [ True False False False]\n",
      " [False False False False]\n",
      " [ True False False False]\n",
      " [False False False False]\n",
      " [ True False False False]\n",
      " [False False False False]\n",
      " [ True False False False]\n",
      " [ True False False False]\n",
      " [ True False False False]\n",
      " [ True False False False]\n",
      " [ True False False False]\n",
      " [ True False False False]\n",
      " [ True False False False]\n",
      " [False False False False]\n",
      " [ True False False False]\n",
      " [ True False False False]\n",
      " [False False False False]\n",
      " [ True False False False]\n",
      " [ True False False False]\n",
      " [ True False False False]\n",
      " [ True False False False]\n",
      " [ True False False False]\n",
      " [ True False False False]\n",
      " [ True False False False]\n",
      " [ True False False False]\n",
      " [ True False False False]\n",
      " [ True False False False]\n",
      " [ True False False False]\n",
      " [ True False False False]\n",
      " [ True False False False]\n",
      " [ True False False False]\n",
      " [ True False False False]\n",
      " [ True False False False]\n",
      " [ True False False False]\n",
      " [ True False False False]\n",
      " [ True False False False]\n",
      " [ True False False False]\n",
      " [ True False False False]\n",
      " [ True False False False]\n",
      " [ True False  True False]\n",
      " [ True False False False]\n",
      " [ True False False False]\n",
      " [ True False False False]\n",
      " [ True False False False]\n",
      " [ True False False False]\n",
      " [ True False False False]\n",
      " [ True False False False]\n",
      " [ True False False False]\n",
      " [ True False False False]\n",
      " [False False False False]\n",
      " [ True False False False]\n",
      " [ True False False False]\n",
      " [ True False False False]\n",
      " [ True False False False]\n",
      " [ True False False False]\n",
      " [ True False False False]\n",
      " [ True False  True False]\n",
      " [ True False  True False]\n",
      " [ True False  True False]\n",
      " [ True False  True False]\n",
      " [ True False  True False]\n",
      " [ True False  True False]\n",
      " [False False False False]\n",
      " [ True False  True False]\n",
      " [ True False  True False]\n",
      " [ True False  True False]\n",
      " [ True False  True False]\n",
      " [ True False  True False]\n",
      " [ True False  True False]\n",
      " [ True False False False]\n",
      " [ True False  True False]\n",
      " [ True False  True False]\n",
      " [ True False  True False]\n",
      " [ True False  True False]\n",
      " [ True False  True False]\n",
      " [ True False False False]\n",
      " [ True False  True False]\n",
      " [ True False False False]\n",
      " [ True False  True False]\n",
      " [ True False False False]\n",
      " [ True False  True False]\n",
      " [ True False  True False]\n",
      " [ True False False False]\n",
      " [ True False False False]\n",
      " [ True False  True False]\n",
      " [ True False  True False]\n",
      " [ True False  True False]\n",
      " [ True False  True False]\n",
      " [ True False  True False]\n",
      " [ True False  True False]\n",
      " [ True False  True False]\n",
      " [ True False  True False]\n",
      " [ True False  True False]\n",
      " [ True False  True False]\n",
      " [ True False False False]\n",
      " [ True False  True False]\n",
      " [ True False  True False]\n",
      " [ True False  True False]\n",
      " [ True False  True False]\n",
      " [ True False  True False]\n",
      " [ True False  True False]\n",
      " [ True False  True False]\n",
      " [ True False False False]\n",
      " [ True False  True False]\n",
      " [ True False  True False]\n",
      " [ True False  True False]]\n"
     ]
    }
   ],
   "source": [
    "mask = (X_copy > 5.0)\n",
    "print(mask)"
   ]
  },
  {
   "cell_type": "markdown",
   "metadata": {},
   "source": [
    "We then replace values which were larger than 5.0 with `nan`. `nan` stands for \"not a number\", and is commonly used to indicate undefined values."
   ]
  },
  {
   "cell_type": "code",
   "execution_count": 22,
   "metadata": {},
   "outputs": [
    {
     "name": "stdout",
     "output_type": "stream",
     "text": [
      "[[nan 3.5 1.4 0.2]\n",
      " [4.9 3.  1.4 0.2]\n",
      " [4.7 3.2 1.3 0.2]\n",
      " [4.6 3.1 1.5 0.2]\n",
      " [5.  3.6 1.4 0.2]\n",
      " [nan 3.9 1.7 0.4]\n",
      " [4.6 3.4 1.4 0.3]\n",
      " [5.  3.4 1.5 0.2]\n",
      " [4.4 2.9 1.4 0.2]\n",
      " [4.9 3.1 1.5 0.1]\n",
      " [nan 3.7 1.5 0.2]\n",
      " [4.8 3.4 1.6 0.2]\n",
      " [4.8 3.  1.4 0.1]\n",
      " [4.3 3.  1.1 0.1]\n",
      " [nan 4.  1.2 0.2]\n",
      " [nan 4.4 1.5 0.4]\n",
      " [nan 3.9 1.3 0.4]\n",
      " [nan 3.5 1.4 0.3]\n",
      " [nan 3.8 1.7 0.3]\n",
      " [nan 3.8 1.5 0.3]\n",
      " [nan 3.4 1.7 0.2]\n",
      " [nan 3.7 1.5 0.4]\n",
      " [4.6 3.6 1.  0.2]\n",
      " [nan 3.3 1.7 0.5]\n",
      " [4.8 3.4 1.9 0.2]\n",
      " [5.  3.  1.6 0.2]\n",
      " [5.  3.4 1.6 0.4]\n",
      " [nan 3.5 1.5 0.2]\n",
      " [nan 3.4 1.4 0.2]\n",
      " [4.7 3.2 1.6 0.2]\n",
      " [4.8 3.1 1.6 0.2]\n",
      " [nan 3.4 1.5 0.4]\n",
      " [nan 4.1 1.5 0.1]\n",
      " [nan 4.2 1.4 0.2]\n",
      " [4.9 3.1 1.5 0.2]\n",
      " [5.  3.2 1.2 0.2]\n",
      " [nan 3.5 1.3 0.2]\n",
      " [4.9 3.6 1.4 0.1]\n",
      " [4.4 3.  1.3 0.2]\n",
      " [nan 3.4 1.5 0.2]\n",
      " [5.  3.5 1.3 0.3]\n",
      " [4.5 2.3 1.3 0.3]\n",
      " [4.4 3.2 1.3 0.2]\n",
      " [5.  3.5 1.6 0.6]\n",
      " [nan 3.8 1.9 0.4]\n",
      " [4.8 3.  1.4 0.3]\n",
      " [nan 3.8 1.6 0.2]\n",
      " [4.6 3.2 1.4 0.2]\n",
      " [nan 3.7 1.5 0.2]\n",
      " [5.  3.3 1.4 0.2]\n",
      " [nan 3.2 4.7 1.4]\n",
      " [nan 3.2 4.5 1.5]\n",
      " [nan 3.1 4.9 1.5]\n",
      " [nan 2.3 4.  1.3]\n",
      " [nan 2.8 4.6 1.5]\n",
      " [nan 2.8 4.5 1.3]\n",
      " [nan 3.3 4.7 1.6]\n",
      " [4.9 2.4 3.3 1. ]\n",
      " [nan 2.9 4.6 1.3]\n",
      " [nan 2.7 3.9 1.4]\n",
      " [5.  2.  3.5 1. ]\n",
      " [nan 3.  4.2 1.5]\n",
      " [nan 2.2 4.  1. ]\n",
      " [nan 2.9 4.7 1.4]\n",
      " [nan 2.9 3.6 1.3]\n",
      " [nan 3.1 4.4 1.4]\n",
      " [nan 3.  4.5 1.5]\n",
      " [nan 2.7 4.1 1. ]\n",
      " [nan 2.2 4.5 1.5]\n",
      " [nan 2.5 3.9 1.1]\n",
      " [nan 3.2 4.8 1.8]\n",
      " [nan 2.8 4.  1.3]\n",
      " [nan 2.5 4.9 1.5]\n",
      " [nan 2.8 4.7 1.2]\n",
      " [nan 2.9 4.3 1.3]\n",
      " [nan 3.  4.4 1.4]\n",
      " [nan 2.8 4.8 1.4]\n",
      " [nan 3.  5.  1.7]\n",
      " [nan 2.9 4.5 1.5]\n",
      " [nan 2.6 3.5 1. ]\n",
      " [nan 2.4 3.8 1.1]\n",
      " [nan 2.4 3.7 1. ]\n",
      " [nan 2.7 3.9 1.2]\n",
      " [nan 2.7 nan 1.6]\n",
      " [nan 3.  4.5 1.5]\n",
      " [nan 3.4 4.5 1.6]\n",
      " [nan 3.1 4.7 1.5]\n",
      " [nan 2.3 4.4 1.3]\n",
      " [nan 3.  4.1 1.3]\n",
      " [nan 2.5 4.  1.3]\n",
      " [nan 2.6 4.4 1.2]\n",
      " [nan 3.  4.6 1.4]\n",
      " [nan 2.6 4.  1.2]\n",
      " [5.  2.3 3.3 1. ]\n",
      " [nan 2.7 4.2 1.3]\n",
      " [nan 3.  4.2 1.2]\n",
      " [nan 2.9 4.2 1.3]\n",
      " [nan 2.9 4.3 1.3]\n",
      " [nan 2.5 3.  1.1]\n",
      " [nan 2.8 4.1 1.3]\n",
      " [nan 3.3 nan 2.5]\n",
      " [nan 2.7 nan 1.9]\n",
      " [nan 3.  nan 2.1]\n",
      " [nan 2.9 nan 1.8]\n",
      " [nan 3.  nan 2.2]\n",
      " [nan 3.  nan 2.1]\n",
      " [4.9 2.5 4.5 1.7]\n",
      " [nan 2.9 nan 1.8]\n",
      " [nan 2.5 nan 1.8]\n",
      " [nan 3.6 nan 2.5]\n",
      " [nan 3.2 nan 2. ]\n",
      " [nan 2.7 nan 1.9]\n",
      " [nan 3.  nan 2.1]\n",
      " [nan 2.5 5.  2. ]\n",
      " [nan 2.8 nan 2.4]\n",
      " [nan 3.2 nan 2.3]\n",
      " [nan 3.  nan 1.8]\n",
      " [nan 3.8 nan 2.2]\n",
      " [nan 2.6 nan 2.3]\n",
      " [nan 2.2 5.  1.5]\n",
      " [nan 3.2 nan 2.3]\n",
      " [nan 2.8 4.9 2. ]\n",
      " [nan 2.8 nan 2. ]\n",
      " [nan 2.7 4.9 1.8]\n",
      " [nan 3.3 nan 2.1]\n",
      " [nan 3.2 nan 1.8]\n",
      " [nan 2.8 4.8 1.8]\n",
      " [nan 3.  4.9 1.8]\n",
      " [nan 2.8 nan 2.1]\n",
      " [nan 3.  nan 1.6]\n",
      " [nan 2.8 nan 1.9]\n",
      " [nan 3.8 nan 2. ]\n",
      " [nan 2.8 nan 2.2]\n",
      " [nan 2.8 nan 1.5]\n",
      " [nan 2.6 nan 1.4]\n",
      " [nan 3.  nan 2.3]\n",
      " [nan 3.4 nan 2.4]\n",
      " [nan 3.1 nan 1.8]\n",
      " [nan 3.  4.8 1.8]\n",
      " [nan 3.1 nan 2.1]\n",
      " [nan 3.1 nan 2.4]\n",
      " [nan 3.1 nan 2.3]\n",
      " [nan 2.7 nan 1.9]\n",
      " [nan 3.2 nan 2.3]\n",
      " [nan 3.3 nan 2.5]\n",
      " [nan 3.  nan 2.3]\n",
      " [nan 2.5 5.  1.9]\n",
      " [nan 3.  nan 2. ]\n",
      " [nan 3.4 nan 2.3]\n",
      " [nan 3.  nan 1.8]]\n"
     ]
    }
   ],
   "source": [
    "X_copy[mask] = np.nan\n",
    "print(X_copy)"
   ]
  },
  {
   "cell_type": "markdown",
   "metadata": {},
   "source": [
    "In practice you will most likely be removing or replacing `nan` in your data set.  \n",
    "\n",
    "The NumPy `isnan()` function returns a Boolean value describing whether the object is `nan`.  \n",
    "\n",
    "Below, we use it inside the NumPy `any()` function. Together, this will return `True` for all rows which contain at least one `nan`, and `False` for those which do not contain any `nan`.  \n",
    "\n",
    "Next, we remove all rows with `nan` from the data set. \n",
    "\n",
    "In the future, we will cover strategies such as replacing `nan` with feature's average. "
   ]
  },
  {
   "cell_type": "code",
   "execution_count": 23,
   "metadata": {},
   "outputs": [
    {
     "name": "stdout",
     "output_type": "stream",
     "text": [
      "[[4.9 3.  1.4 0.2]\n",
      " [4.7 3.2 1.3 0.2]\n",
      " [4.6 3.1 1.5 0.2]\n",
      " [5.  3.6 1.4 0.2]\n",
      " [4.6 3.4 1.4 0.3]\n",
      " [5.  3.4 1.5 0.2]\n",
      " [4.4 2.9 1.4 0.2]\n",
      " [4.9 3.1 1.5 0.1]\n",
      " [4.8 3.4 1.6 0.2]\n",
      " [4.8 3.  1.4 0.1]\n",
      " [4.3 3.  1.1 0.1]\n",
      " [4.6 3.6 1.  0.2]\n",
      " [4.8 3.4 1.9 0.2]\n",
      " [5.  3.  1.6 0.2]\n",
      " [5.  3.4 1.6 0.4]\n",
      " [4.7 3.2 1.6 0.2]\n",
      " [4.8 3.1 1.6 0.2]\n",
      " [4.9 3.1 1.5 0.2]\n",
      " [5.  3.2 1.2 0.2]\n",
      " [4.9 3.6 1.4 0.1]\n",
      " [4.4 3.  1.3 0.2]\n",
      " [5.  3.5 1.3 0.3]\n",
      " [4.5 2.3 1.3 0.3]\n",
      " [4.4 3.2 1.3 0.2]\n",
      " [5.  3.5 1.6 0.6]\n",
      " [4.8 3.  1.4 0.3]\n",
      " [4.6 3.2 1.4 0.2]\n",
      " [5.  3.3 1.4 0.2]\n",
      " [4.9 2.4 3.3 1. ]\n",
      " [5.  2.  3.5 1. ]\n",
      " [5.  2.3 3.3 1. ]\n",
      " [4.9 2.5 4.5 1.7]]\n"
     ]
    }
   ],
   "source": [
    "mask_nan = np.any(np.isnan(X_copy), axis=1)\n",
    "X_copy = X_copy[~mask_nan]\n",
    "print(X_copy)"
   ]
  },
  {
   "cell_type": "markdown",
   "metadata": {},
   "source": [
    "You could also use the NumPy `nan_to_num()` function: https://docs.scipy.org/doc/numpy/reference/generated/numpy.nan_to_num.html   \n",
    "\n",
    "Pandas library (descibed in more detail below) provides, amongst other things, the `dropna()` function for removing undefined data.\n",
    "\n",
    "There exists redundancy and more than one way to achieve the same result. "
   ]
  },
  {
   "cell_type": "markdown",
   "metadata": {},
   "source": [
    "## Using Pandas"
   ]
  },
  {
   "cell_type": "markdown",
   "metadata": {},
   "source": [
    "You will frequently work with Pandas data frames.  \n",
    "\n",
    "When creating data frame objects, `_df` is frequently added to an object's name for clarity, or the object is simply called `df`.  \n",
    "\n",
    "Empty frame can be created as follows by not providing values for data and columns:     "
   ]
  },
  {
   "cell_type": "code",
   "execution_count": 24,
   "metadata": {},
   "outputs": [
    {
     "name": "stdout",
     "output_type": "stream",
     "text": [
      "Empty DataFrame\n",
      "Columns: []\n",
      "Index: []\n"
     ]
    }
   ],
   "source": [
    "empty_df = pd.DataFrame() \n",
    "print(empty_df)"
   ]
  },
  {
   "cell_type": "markdown",
   "metadata": {},
   "source": [
    "Below, we fill the frame with random integers in range 0 to 10, arranged in 100 rows and 3 columns.\n",
    "\n",
    "By default, `df.head()` prints the first five rows of the data frame. This is handy when we want to check the data frame, but we do not want to print all rows. Arguments can be used to select the number of printed rows and the starting line."
   ]
  },
  {
   "cell_type": "code",
   "execution_count": 25,
   "metadata": {},
   "outputs": [
    {
     "name": "stdout",
     "output_type": "stream",
     "text": [
      "   age  blood_pressure  weight\n",
      "0    5               0       6\n",
      "1    7               1       8\n",
      "2    3               3       7\n",
      "3    6               2       7\n",
      "4    8               4       0\n"
     ]
    }
   ],
   "source": [
    "labels = [\"age\", \"blood_pressure\", \"weight\"]\n",
    "my_data = np.random.randint(low = 0, high = 10,size=(100, 3))\n",
    "df1 = pd.DataFrame(data = my_data, columns = labels)\n",
    "print(df1.head())"
   ]
  },
  {
   "cell_type": "markdown",
   "metadata": {},
   "source": [
    "Further syntax for creating data frames is shown below. \n",
    "\n",
    "To initialise an empty data frame only with labels, use:  "
   ]
  },
  {
   "cell_type": "code",
   "execution_count": 26,
   "metadata": {},
   "outputs": [],
   "source": [
    "empty2_df = pd.DataFrame({\"age\" : [], \"blood_pressure\" : [], \"weight\" : []})"
   ]
  },
  {
   "cell_type": "markdown",
   "metadata": {},
   "source": [
    "To create a data frame with content:"
   ]
  },
  {
   "cell_type": "code",
   "execution_count": 27,
   "metadata": {},
   "outputs": [
    {
     "name": "stdout",
     "output_type": "stream",
     "text": [
      "   age  blood_pressure  weight\n",
      "0   30              62      75\n",
      "1   28             116     106\n",
      "2   21             102      63\n",
      "3   62              72      90\n",
      "4    3              63      91\n"
     ]
    }
   ],
   "source": [
    "df2 = pd.DataFrame({\"age\" : np.random.randint(0,99,size=100), \"blood_pressure\" : np.random.randint(60,150,size=100), \"weight\" : np.random.randint(50,120,size=100)})\n",
    "print(df2.head())"
   ]
  },
  {
   "cell_type": "markdown",
   "metadata": {},
   "source": [
    "We can check details of the data frame using the `df.info()` function, where `df` is replaced with the name of your data frame object."
   ]
  },
  {
   "cell_type": "code",
   "execution_count": 28,
   "metadata": {},
   "outputs": [
    {
     "name": "stdout",
     "output_type": "stream",
     "text": [
      "<class 'pandas.core.frame.DataFrame'>\n",
      "RangeIndex: 100 entries, 0 to 99\n",
      "Data columns (total 3 columns):\n",
      " #   Column          Non-Null Count  Dtype\n",
      "---  ------          --------------  -----\n",
      " 0   age             100 non-null    int32\n",
      " 1   blood_pressure  100 non-null    int32\n",
      " 2   weight          100 non-null    int32\n",
      "dtypes: int32(3)\n",
      "memory usage: 1.3 KB\n"
     ]
    }
   ],
   "source": [
    "df2.info()"
   ]
  },
  {
   "cell_type": "markdown",
   "metadata": {},
   "source": [
    "Basic statistical analysis of Pandas dataframes can be performed by using the `df.describe()` function.  \n",
    "You should always look at your data and do common sense checks before you feed it into machine learning algorithms."
   ]
  },
  {
   "cell_type": "code",
   "execution_count": 29,
   "metadata": {},
   "outputs": [
    {
     "data": {
      "text/html": [
       "<div>\n",
       "<style scoped>\n",
       "    .dataframe tbody tr th:only-of-type {\n",
       "        vertical-align: middle;\n",
       "    }\n",
       "\n",
       "    .dataframe tbody tr th {\n",
       "        vertical-align: top;\n",
       "    }\n",
       "\n",
       "    .dataframe thead th {\n",
       "        text-align: right;\n",
       "    }\n",
       "</style>\n",
       "<table border=\"1\" class=\"dataframe\">\n",
       "  <thead>\n",
       "    <tr style=\"text-align: right;\">\n",
       "      <th></th>\n",
       "      <th>age</th>\n",
       "      <th>blood_pressure</th>\n",
       "      <th>weight</th>\n",
       "    </tr>\n",
       "  </thead>\n",
       "  <tbody>\n",
       "    <tr>\n",
       "      <th>count</th>\n",
       "      <td>100.000000</td>\n",
       "      <td>100.000000</td>\n",
       "      <td>100.00000</td>\n",
       "    </tr>\n",
       "    <tr>\n",
       "      <th>mean</th>\n",
       "      <td>49.560000</td>\n",
       "      <td>102.220000</td>\n",
       "      <td>84.90000</td>\n",
       "    </tr>\n",
       "    <tr>\n",
       "      <th>std</th>\n",
       "      <td>28.017426</td>\n",
       "      <td>27.274727</td>\n",
       "      <td>20.87021</td>\n",
       "    </tr>\n",
       "    <tr>\n",
       "      <th>min</th>\n",
       "      <td>0.000000</td>\n",
       "      <td>60.000000</td>\n",
       "      <td>50.00000</td>\n",
       "    </tr>\n",
       "    <tr>\n",
       "      <th>25%</th>\n",
       "      <td>26.000000</td>\n",
       "      <td>76.750000</td>\n",
       "      <td>65.00000</td>\n",
       "    </tr>\n",
       "    <tr>\n",
       "      <th>50%</th>\n",
       "      <td>48.500000</td>\n",
       "      <td>101.500000</td>\n",
       "      <td>86.00000</td>\n",
       "    </tr>\n",
       "    <tr>\n",
       "      <th>75%</th>\n",
       "      <td>74.000000</td>\n",
       "      <td>125.000000</td>\n",
       "      <td>101.25000</td>\n",
       "    </tr>\n",
       "    <tr>\n",
       "      <th>max</th>\n",
       "      <td>97.000000</td>\n",
       "      <td>149.000000</td>\n",
       "      <td>118.00000</td>\n",
       "    </tr>\n",
       "  </tbody>\n",
       "</table>\n",
       "</div>"
      ],
      "text/plain": [
       "              age  blood_pressure     weight\n",
       "count  100.000000      100.000000  100.00000\n",
       "mean    49.560000      102.220000   84.90000\n",
       "std     28.017426       27.274727   20.87021\n",
       "min      0.000000       60.000000   50.00000\n",
       "25%     26.000000       76.750000   65.00000\n",
       "50%     48.500000      101.500000   86.00000\n",
       "75%     74.000000      125.000000  101.25000\n",
       "max     97.000000      149.000000  118.00000"
      ]
     },
     "execution_count": 29,
     "metadata": {},
     "output_type": "execute_result"
    }
   ],
   "source": [
    "df2.describe()"
   ]
  },
  {
   "cell_type": "markdown",
   "metadata": {},
   "source": [
    "Both column names and indices (accessed using `iloc[ ]`) can be used to select dataframe columns.  \n",
    "\n",
    "A single set of square brackets is required when using one column name, and two sets of square brackets are required when using multiple names. For example:  \n",
    "`df2[\"age\"]`  \n",
    "`df2[[\"age\", \"weight\"]]`"
   ]
  },
  {
   "cell_type": "code",
   "execution_count": 30,
   "metadata": {},
   "outputs": [
    {
     "data": {
      "text/html": [
       "<div>\n",
       "<style scoped>\n",
       "    .dataframe tbody tr th:only-of-type {\n",
       "        vertical-align: middle;\n",
       "    }\n",
       "\n",
       "    .dataframe tbody tr th {\n",
       "        vertical-align: top;\n",
       "    }\n",
       "\n",
       "    .dataframe thead th {\n",
       "        text-align: right;\n",
       "    }\n",
       "</style>\n",
       "<table border=\"1\" class=\"dataframe\">\n",
       "  <thead>\n",
       "    <tr style=\"text-align: right;\">\n",
       "      <th></th>\n",
       "      <th>age</th>\n",
       "      <th>weight</th>\n",
       "    </tr>\n",
       "  </thead>\n",
       "  <tbody>\n",
       "    <tr>\n",
       "      <th>0</th>\n",
       "      <td>30</td>\n",
       "      <td>75</td>\n",
       "    </tr>\n",
       "    <tr>\n",
       "      <th>1</th>\n",
       "      <td>28</td>\n",
       "      <td>106</td>\n",
       "    </tr>\n",
       "    <tr>\n",
       "      <th>2</th>\n",
       "      <td>21</td>\n",
       "      <td>63</td>\n",
       "    </tr>\n",
       "    <tr>\n",
       "      <th>3</th>\n",
       "      <td>62</td>\n",
       "      <td>90</td>\n",
       "    </tr>\n",
       "    <tr>\n",
       "      <th>4</th>\n",
       "      <td>3</td>\n",
       "      <td>91</td>\n",
       "    </tr>\n",
       "  </tbody>\n",
       "</table>\n",
       "</div>"
      ],
      "text/plain": [
       "   age  weight\n",
       "0   30      75\n",
       "1   28     106\n",
       "2   21      63\n",
       "3   62      90\n",
       "4    3      91"
      ]
     },
     "execution_count": 30,
     "metadata": {},
     "output_type": "execute_result"
    }
   ],
   "source": [
    "df2[[\"age\", \"weight\"]].head() "
   ]
  },
  {
   "cell_type": "code",
   "execution_count": 31,
   "metadata": {},
   "outputs": [
    {
     "data": {
      "text/html": [
       "<div>\n",
       "<style scoped>\n",
       "    .dataframe tbody tr th:only-of-type {\n",
       "        vertical-align: middle;\n",
       "    }\n",
       "\n",
       "    .dataframe tbody tr th {\n",
       "        vertical-align: top;\n",
       "    }\n",
       "\n",
       "    .dataframe thead th {\n",
       "        text-align: right;\n",
       "    }\n",
       "</style>\n",
       "<table border=\"1\" class=\"dataframe\">\n",
       "  <thead>\n",
       "    <tr style=\"text-align: right;\">\n",
       "      <th></th>\n",
       "      <th>age</th>\n",
       "      <th>weight</th>\n",
       "    </tr>\n",
       "  </thead>\n",
       "  <tbody>\n",
       "    <tr>\n",
       "      <th>0</th>\n",
       "      <td>30</td>\n",
       "      <td>75</td>\n",
       "    </tr>\n",
       "    <tr>\n",
       "      <th>1</th>\n",
       "      <td>28</td>\n",
       "      <td>106</td>\n",
       "    </tr>\n",
       "    <tr>\n",
       "      <th>2</th>\n",
       "      <td>21</td>\n",
       "      <td>63</td>\n",
       "    </tr>\n",
       "    <tr>\n",
       "      <th>3</th>\n",
       "      <td>62</td>\n",
       "      <td>90</td>\n",
       "    </tr>\n",
       "    <tr>\n",
       "      <th>4</th>\n",
       "      <td>3</td>\n",
       "      <td>91</td>\n",
       "    </tr>\n",
       "  </tbody>\n",
       "</table>\n",
       "</div>"
      ],
      "text/plain": [
       "   age  weight\n",
       "0   30      75\n",
       "1   28     106\n",
       "2   21      63\n",
       "3   62      90\n",
       "4    3      91"
      ]
     },
     "execution_count": 31,
     "metadata": {},
     "output_type": "execute_result"
    }
   ],
   "source": [
    "df2.iloc[:, [0, 2]].head()"
   ]
  },
  {
   "cell_type": "markdown",
   "metadata": {},
   "source": [
    "`df.iloc[ ]` can also be used to select rows:"
   ]
  },
  {
   "cell_type": "code",
   "execution_count": 32,
   "metadata": {},
   "outputs": [
    {
     "data": {
      "text/html": [
       "<div>\n",
       "<style scoped>\n",
       "    .dataframe tbody tr th:only-of-type {\n",
       "        vertical-align: middle;\n",
       "    }\n",
       "\n",
       "    .dataframe tbody tr th {\n",
       "        vertical-align: top;\n",
       "    }\n",
       "\n",
       "    .dataframe thead th {\n",
       "        text-align: right;\n",
       "    }\n",
       "</style>\n",
       "<table border=\"1\" class=\"dataframe\">\n",
       "  <thead>\n",
       "    <tr style=\"text-align: right;\">\n",
       "      <th></th>\n",
       "      <th>age</th>\n",
       "      <th>blood_pressure</th>\n",
       "      <th>weight</th>\n",
       "    </tr>\n",
       "  </thead>\n",
       "  <tbody>\n",
       "    <tr>\n",
       "      <th>0</th>\n",
       "      <td>30</td>\n",
       "      <td>62</td>\n",
       "      <td>75</td>\n",
       "    </tr>\n",
       "    <tr>\n",
       "      <th>1</th>\n",
       "      <td>28</td>\n",
       "      <td>116</td>\n",
       "      <td>106</td>\n",
       "    </tr>\n",
       "    <tr>\n",
       "      <th>2</th>\n",
       "      <td>21</td>\n",
       "      <td>102</td>\n",
       "      <td>63</td>\n",
       "    </tr>\n",
       "    <tr>\n",
       "      <th>3</th>\n",
       "      <td>62</td>\n",
       "      <td>72</td>\n",
       "      <td>90</td>\n",
       "    </tr>\n",
       "    <tr>\n",
       "      <th>4</th>\n",
       "      <td>3</td>\n",
       "      <td>63</td>\n",
       "      <td>91</td>\n",
       "    </tr>\n",
       "  </tbody>\n",
       "</table>\n",
       "</div>"
      ],
      "text/plain": [
       "   age  blood_pressure  weight\n",
       "0   30              62      75\n",
       "1   28             116     106\n",
       "2   21             102      63\n",
       "3   62              72      90\n",
       "4    3              63      91"
      ]
     },
     "execution_count": 32,
     "metadata": {},
     "output_type": "execute_result"
    }
   ],
   "source": [
    "df2.iloc[0:5, :]"
   ]
  },
  {
   "cell_type": "markdown",
   "metadata": {
    "collapsed": true
   },
   "source": [
    "## Saving and Reading Data\n",
    "### Checking the Working Directory\n",
    "First, lets check which directory we are currently working in:"
   ]
  },
  {
   "cell_type": "code",
   "execution_count": 33,
   "metadata": {},
   "outputs": [
    {
     "data": {
      "text/plain": [
       "'C:\\\\Users\\\\Dolly He\\\\Desktop\\\\Year 3\\\\COMP0036_ML\\\\Introductory Notebook-20211004'"
      ]
     },
     "execution_count": 33,
     "metadata": {},
     "output_type": "execute_result"
    }
   ],
   "source": [
    "pwd"
   ]
  },
  {
   "cell_type": "markdown",
   "metadata": {},
   "source": [
    "Files will be saved here, unless the full file path is provided. \n",
    "\n",
    "We can change the working directory (for this we need to import os library): "
   ]
  },
  {
   "cell_type": "code",
   "execution_count": 36,
   "metadata": {},
   "outputs": [],
   "source": [
    "import os\n",
    "\n",
    "my_path = \"C:\\\\Users\\\\Dolly He\\\\Desktop\\\\Year 3\\\\COMP0036_ML\" # replace with your path\n",
    "os.chdir(my_path)"
   ]
  },
  {
   "cell_type": "markdown",
   "metadata": {},
   "source": [
    "Check the change:"
   ]
  },
  {
   "cell_type": "code",
   "execution_count": 35,
   "metadata": {},
   "outputs": [
    {
     "data": {
      "text/plain": [
       "'C:\\\\Users\\\\Dolly He\\\\Desktop\\\\Year 3\\\\COMP0036_ML\\\\Introductory Notebook-20211004'"
      ]
     },
     "execution_count": 35,
     "metadata": {},
     "output_type": "execute_result"
    }
   ],
   "source": [
    "pwd"
   ]
  },
  {
   "cell_type": "markdown",
   "metadata": {},
   "source": [
    "### Saving Files\n",
    "One of the ways to save your data is by using the Pandas `df.to_csv()` function. \n",
    "\n",
    "We create a tab-separated file (`\\t`)."
   ]
  },
  {
   "cell_type": "code",
   "execution_count": 37,
   "metadata": {},
   "outputs": [],
   "source": [
    "file_name = \"my_file.csv\" # if you want to be on the safe side, you can pass the whole path, i.e. directory + file_name\n",
    "df2.to_csv(file_name,index=False) # we are saving it without the index column. We do not really need it (it was just numbering), and it is going to be recreated when we open the file below."
   ]
  },
  {
   "cell_type": "markdown",
   "metadata": {},
   "source": [
    "To read a file we can use the Pandas `read_csv()` function. It can take many useful arguments, for example to indicate the delimiter used (such as commas or tabs), to skip blank lines, etc. \n",
    "\n",
    "Documentation can be found here: https://pandas.pydata.org/pandas-docs/stable/generated/pandas.read_csv.html"
   ]
  },
  {
   "cell_type": "code",
   "execution_count": 38,
   "metadata": {},
   "outputs": [
    {
     "name": "stdout",
     "output_type": "stream",
     "text": [
      "   age  blood_pressure  weight\n",
      "0   30              62      75\n",
      "1   28             116     106\n",
      "2   21             102      63\n",
      "3   62              72      90\n",
      "4    3              63      91\n"
     ]
    }
   ],
   "source": [
    "my_saved_file_name = \"my_file.csv\"\n",
    "new_df = pd.read_csv(my_saved_file_name)\n",
    "print(new_df.head())"
   ]
  },
  {
   "cell_type": "markdown",
   "metadata": {},
   "source": [
    "## Final Note\n",
    "Please remember that most data scientists Google things all the time: Libraries change; problems we are facing have already been solved by someone else.  \n",
    "The 'Stack Overflow' site is a useful source of problem solutions and code examples.  \n",
    "Remember that using documentation, libraries and copying small chunks of code (if not restricted by law) is OK...although this should always be referenced where appropriate."
   ]
  }
 ],
 "metadata": {
  "kernelspec": {
   "display_name": "Python 3 (ipykernel)",
   "language": "python",
   "name": "python3"
  },
  "language_info": {
   "codemirror_mode": {
    "name": "ipython",
    "version": 3
   },
   "file_extension": ".py",
   "mimetype": "text/x-python",
   "name": "python",
   "nbconvert_exporter": "python",
   "pygments_lexer": "ipython3",
   "version": "3.9.7"
  }
 },
 "nbformat": 4,
 "nbformat_minor": 2
}
